{
 "cells": [
  {
   "cell_type": "markdown",
   "id": "5acfea99-be6e-41e2-98f8-966c40bfe4c9",
   "metadata": {},
   "source": [
    "# **DSCI 100 Project**\n",
    "\n",
    "## Introduction\n",
    "#### Background\n",
    "#### Questions\n",
    "#### Data description\n"
   ]
  },
  {
   "cell_type": "markdown",
   "id": "76768458-8eb1-413f-9761-192574781d29",
   "metadata": {},
   "source": [
    "## Methods & Results"
   ]
  },
  {
   "cell_type": "markdown",
   "id": "c0bd3f25-d761-4f31-84ee-0f75a38263dd",
   "metadata": {},
   "source": [
    "## Discussion"
   ]
  },
  {
   "cell_type": "markdown",
   "id": "a40a0edf-4dac-43d0-b8e1-d9b80973bb1a",
   "metadata": {},
   "source": [
    "## References"
   ]
  },
  {
   "cell_type": "code",
   "execution_count": null,
   "id": "b48e56ff-4236-4088-8c4c-67015b459c62",
   "metadata": {},
   "outputs": [],
   "source": []
  }
 ],
 "metadata": {
  "kernelspec": {
   "display_name": "R",
   "language": "R",
   "name": "ir"
  },
  "language_info": {
   "codemirror_mode": "r",
   "file_extension": ".r",
   "mimetype": "text/x-r-source",
   "name": "R",
   "pygments_lexer": "r",
   "version": "4.3.3"
  }
 },
 "nbformat": 4,
 "nbformat_minor": 5
}
